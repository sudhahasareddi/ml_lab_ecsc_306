{
 "cells": [
  {
   "cell_type": "code",
   "execution_count": 1,
   "metadata": {},
   "outputs": [
    {
     "name": "stdout",
     "output_type": "stream",
     "text": [
      "5.66667\n",
      "8.66667\n",
      "32.6667\n",
      "48.6667\n",
      "1.4898\n",
      "0.22449\n"
     ]
    }
   ],
   "source": [
    "import tensorflow as tf\n",
    "x = tf.constant([2.0, 5.0, 10.0])\n",
    "y = tf.constant([3.0, 8.0, 15.0]) \n",
    "\n",
    "x1 = tf.reduce_mean(x)\n",
    "y1 = tf.reduce_mean(y)\n",
    "sess = tf.Session()\n",
    "print(sess.run(x1))\n",
    "sess = tf.Session()\n",
    "print(sess.run(y1))\n",
    "\n",
    "m=tf.subtract(x,x1)\n",
    "n=tf.subtract(y,y1)\n",
    "\n",
    "o =tf.square(m)\n",
    "p =tf.square(n)\n",
    "\n",
    "variance=tf.reduce_sum(o)\n",
    "\n",
    "sess = tf.Session()\n",
    "print(sess.run(variance))\n",
    "\n",
    "#cov\n",
    "r = tf.subtract(x,x1)\n",
    "s = tf.subtract(y,y1)\n",
    "t = tf.multiply(r,s)\n",
    "\n",
    "covariance=tf.reduce_sum(t)\n",
    "sess = tf.Session()\n",
    "print(sess.run(covariance))\n",
    "\n",
    "m_graph=tf.div(covariance,variance)\n",
    "sess = tf.Session()\n",
    "print(sess.run(m_graph))\n",
    "\n",
    "p1=tf.multiply(m_graph,x1)\n",
    "\n",
    "c=tf.subtract(y1,p1)\n",
    "\n",
    "with tf.Session() as sess:\n",
    "    writer=tf.summary.FileWriter(\"/tmp/tboard/output2\",sess.graph)\n",
    "    print(sess.run(c))\n",
    "    writer.close()\n",
    "\n",
    "\n"
   ]
  },
  {
   "cell_type": "code",
   "execution_count": null,
   "metadata": {
    "collapsed": true
   },
   "outputs": [],
   "source": []
  }
 ],
 "metadata": {
  "kernelspec": {
   "display_name": "Python 3",
   "language": "python",
   "name": "python3"
  },
  "language_info": {
   "codemirror_mode": {
    "name": "ipython",
    "version": 3
   },
   "file_extension": ".py",
   "mimetype": "text/x-python",
   "name": "python",
   "nbconvert_exporter": "python",
   "pygments_lexer": "ipython3",
   "version": "3.6.1"
  }
 },
 "nbformat": 4,
 "nbformat_minor": 2
}
